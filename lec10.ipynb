{
 "cells": [
  {
   "cell_type": "markdown",
   "metadata": {},
   "source": [
    "1. Write a program that generates 26 text files named A.txt, B.txt, and so on up to Z.txt. To each file append a random number between 1 and 100. Create a summary file (summary.txt) that contains the name of the file and number in that file:\n",
    "A.txt: 67 B.txt: 12...Z.txt: 98"
   ]
  },
  {
   "cell_type": "code",
   "execution_count": 20,
   "metadata": {},
   "outputs": [],
   "source": [
    "from random import randint\n",
    "\n",
    "\n",
    "alphabet = \"abcdefghijklmnopqrstuvwxyz\"\n",
    "\n",
    "for letter in alphabet:\n",
    "    with open(f\"{letter.capitalize()}.txt\", \"w+\") as file:\n",
    "        file.write(f\"{randint(1, 100)}\")\n",
    "        file.seek(0)\n",
    "        with open(\"summary.txt\", \"a\") as sum_file:\n",
    "            sum_file.write(f\"{file.name}: {file.read()} \")\n"
   ]
  },
  {
   "cell_type": "markdown",
   "metadata": {},
   "source": [
    "2. Create a file with some content. As example, you can take this one: “Lorem ipsum dolor sit amet, consectetur adipiscing elit, sed do eiusmod tempor incididunt ut labore et dolore magna aliqua. Ut enim ad minim veniam, quis nostrud exercitation ullamco laboris nisi ut aliquip ex ea commodo consequat. Duis aute irure dolor in reprehenderit in voluptate velit esse cillum dolore eu fugiat nulla pariatur. Excepteur sint occaecat cupidatat non proident, sunt in culpa qui officia deserunt mollit anim id est laborum”.\n",
    "\n",
    "Create a second file and copy the content of the first file to the second file in upper case.\n"
   ]
  },
  {
   "cell_type": "code",
   "execution_count": 26,
   "metadata": {},
   "outputs": [],
   "source": [
    "with open(\"file.txt\", \"w+\") as file:\n",
    "    file.write(\"Lorem ipsum dolor sit amet, consectetur adipiscing elit, sed do eiusmod tempor incididunt ut labore et dolore magna aliqua. Ut enim ad minim veniam, quis nostrud exercitation ullamco laboris nisi ut aliquip ex ea commodo consequat. Duis aute irure dolor in reprehenderit in voluptate velit esse cillum dolore eu fugiat nulla pariatur. Excepteur sint occaecat cupidatat non proident, sunt in culpa qui officia deserunt mollit anim id est laborum\")\n",
    "    file.seek(0)\n",
    "    with open(\"file_copy.txt\", \"w\") as file_copy:\n",
    "        file_copy.write(file.read().upper())\n"
   ]
  },
  {
   "cell_type": "markdown",
   "metadata": {},
   "source": [
    "3. Write a program that will simulate user scores in a game. Create a list with 5 players’ names. \n",
    "After that, simulate 100 rounds for each player. As a result of the game, create a list with \n",
    "the player's name and score (0-1000 range). And save it to a CSV file.\n",
    "\n",
    "The file should look like this:\n",
    " \n",
    "Player name, Score \n",
    "Josh, 56\n",
    "Luke, 784\n",
    "Kate, 90\n",
    "Mark, 125\n",
    "Mary, 877\n",
    "Josh, 345"
   ]
  },
  {
   "cell_type": "code",
   "execution_count": 44,
   "metadata": {},
   "outputs": [],
   "source": [
    "import csv\n",
    "import random as rand\n",
    "\n",
    "\n",
    "players = [\"Lucas\", \"Ember\", \"Gleb\", \"Vasyl\", \"Juliette\"]\n",
    "\n",
    "with open(\"players.csv\", \"w\", newline='') as file:\n",
    "    writer = csv.writer(file)\n",
    "    writer.writerow(['Players', 'Score'])\n",
    "    \n",
    "    for _ in range(100):\n",
    "        for player in players:\n",
    "            score = rand.randint(0, 1000)\n",
    "            writer.writerow([player, score])\n"
   ]
  },
  {
   "cell_type": "markdown",
   "metadata": {},
   "source": [
    "4. Write a script that reads the data from the previous CSV file and creates a new file called high_scores.csv where each row contains the player name and their highest score. The final score should be sorted by descending to the highest score.\n",
    "\n",
    "The output CSV file should look like this:\n",
    "\n",
    "Player name, Highest score\n",
    "Kate, 907\n",
    "Mary, 897\n",
    " Luke, 784\n",
    "Mark, 725\n",
    "Josh, 345"
   ]
  },
  {
   "cell_type": "code",
   "execution_count": 107,
   "metadata": {},
   "outputs": [
    {
     "name": "stdout",
     "output_type": "stream",
     "text": [
      "{'Lucas': 995, 'Ember': 1000, 'Gleb': 973, 'Vasyl': 999, 'Juliette': 1000}\n",
      "{'Ember': 1000, 'Juliette': 1000, 'Vasyl': 999, 'Lucas': 995, 'Gleb': 973} [{'Player name': 'Ember', 'Highest score': 1000}, {'Player name': 'Juliette', 'Highest score': 1000}, {'Player name': 'Vasyl', 'Highest score': 999}, {'Player name': 'Lucas', 'Highest score': 995}, {'Player name': 'Gleb', 'Highest score': 973}]\n"
     ]
    }
   ],
   "source": [
    "players_dict = dict()\n",
    "for name in players:\n",
    "    players_dict[name] = 0\n",
    "\n",
    "with open(\"players.csv\", \"r\", newline='') as file:\n",
    "    reader = csv.reader(file)\n",
    "    \n",
    "    for name, score in reader:\n",
    "        if name not in players_dict:\n",
    "            pass\n",
    "        elif int(players_dict[name]) < int(score):\n",
    "            players_dict[name] = int(score)\n",
    "print(players_dict)\n",
    "\n",
    "players_dict = dict(sorted(players_dict.items(), key=lambda x: x[1], reverse=True))\n",
    "high_scores_list = [{\"Player name\": name, \"Highest score\": highest_score} for name, highest_score in players_dict.items()]\n",
    "\n",
    "print(players_dict, high_scores_list)\n",
    "\n",
    "with open(\"high_scores.csv\", \"w\") as file:\n",
    "    # writer = csv.writer(file)\n",
    "    # writer.writerow([\"Player name\", \"Highest score\"])\n",
    "\n",
    "    fieldnames = [\"Player name\", \"Highest score\"]\n",
    "    writer = csv.DictWriter(file, fieldnames=fieldnames)\n",
    "    writer.writeheader()\n",
    "    writer.writerows(high_scores_list)\n"
   ]
  },
  {
   "cell_type": "markdown",
   "metadata": {},
   "source": []
  }
 ],
 "metadata": {
  "kernelspec": {
   "display_name": "venv",
   "language": "python",
   "name": "python3"
  },
  "language_info": {
   "codemirror_mode": {
    "name": "ipython",
    "version": 3
   },
   "file_extension": ".py",
   "mimetype": "text/x-python",
   "name": "python",
   "nbconvert_exporter": "python",
   "pygments_lexer": "ipython3",
   "version": "3.10.11"
  },
  "orig_nbformat": 4
 },
 "nbformat": 4,
 "nbformat_minor": 2
}
